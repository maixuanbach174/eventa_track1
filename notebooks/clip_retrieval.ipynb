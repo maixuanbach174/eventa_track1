{
 "cells": [
  {
   "cell_type": "code",
   "execution_count": 1,
   "metadata": {},
   "outputs": [
    {
     "name": "stderr",
     "output_type": "stream",
     "text": [
      "/opt/anaconda3/envs/eventa/lib/python3.12/site-packages/tqdm/auto.py:21: TqdmWarning: IProgress not found. Please update jupyter and ipywidgets. See https://ipywidgets.readthedocs.io/en/stable/user_install.html\n",
      "  from .autonotebook import tqdm as notebook_tqdm\n",
      "Using a slow image processor as `use_fast` is unset and a slow processor was saved with this model. `use_fast=True` will be the default behavior in v4.52, even if the model was saved with a slow processor. This will result in minor differences in outputs. You'll still be able to use a slow processor with `use_fast=False`.\n"
     ]
    },
    {
     "name": "stdout",
     "output_type": "stream",
     "text": [
      "Using device: mps\n"
     ]
    }
   ],
   "source": [
    "import transformers\n",
    "import torch\n",
    "\n",
    "from transformers import CLIPProcessor, CLIPModel, AutoTokenizer\n",
    "\n",
    "device = torch.device(\"cuda\" if torch.cuda.is_available() else \"mps\" if torch.backends.mps.is_available() else \"cpu\")\n",
    "print(f\"Using device: {device}\")\n",
    "model_name = \"openai/clip-vit-base-patch32\"\n",
    "clip_processor = CLIPProcessor.from_pretrained(model_name)\n",
    "clip_model     = CLIPModel.from_pretrained(model_name).to(device)\n",
    "tokenizer = AutoTokenizer.from_pretrained(model_name)\n"
   ]
  },
  {
   "cell_type": "code",
   "execution_count": 2,
   "metadata": {},
   "outputs": [
    {
     "name": "stdout",
     "output_type": "stream",
     "text": [
      "dict_keys(['url', 'date', 'title', 'images', 'content'])\n"
     ]
    }
   ],
   "source": [
    "import json\n",
    "\n",
    "with open(\"../dataset/database.json\", \"r\", encoding=\"utf-8\") as f:\n",
    "    articles_json = json.load(f)\n",
    "\n",
    "print(articles_json[\"f8097c7d27a8aac6\"].keys())"
   ]
  },
  {
   "cell_type": "code",
   "execution_count": 3,
   "metadata": {},
   "outputs": [],
   "source": [
    "import spacy\n",
    "\n",
    "nlp = spacy.load(\"en_core_web_sm\")"
   ]
  },
  {
   "cell_type": "code",
   "execution_count": null,
   "metadata": {},
   "outputs": [
    {
     "name": "stdout",
     "output_type": "stream",
     "text": [
      "Built a mini passage pool of size 35.\n"
     ]
    },
    {
     "data": {
      "text/plain": [
       "{'passage_id': 'f8097c7d27a8aac6-p0',\n",
       " 'article_id': 'f8097c7d27a8aac6',\n",
       " 'text': \"(CNN)Right now, there's a shortage of truck drivers in the US and worldwide, exacerbated by the e-commerce boom brought on by the pandemic. One solution to the problem is autonomous trucks, and several companies are in a race to be the first to launch one. Among them is San Diego-based TuSimple. Founded in 2015, TuSimple has completed about 2 million miles of road tests with its 70 prototype trucks across the US, China and Europe.\"}"
      ]
     },
     "execution_count": 4,
     "metadata": {},
     "output_type": "execute_result"
    }
   ],
   "source": [
    "passage_table = []\n",
    "for art_id, info in list(articles_json.items())[:3]:  # only first 3 for testing\n",
    "    text = info[\"content\"]\n",
    "    sents = [s.text.strip() for s in nlp(text).sents if s.text.strip()]\n",
    "    current, length = [], 0\n",
    "    for s in sents:\n",
    "        tc = len(s.split())\n",
    "        if length + tc > 120 and current:\n",
    "            pid = f\"{art_id}-p{len(passage_table)}\"\n",
    "            passage_table.append({\"passage_id\": pid, \"article_id\": art_id, \"text\": \" \".join(current)})\n",
    "            current, length = [s], tc\n",
    "        else:\n",
    "            current.append(s)\n",
    "            length += tc\n",
    "    if current:\n",
    "        pid = f\"{art_id}-p{len(passage_table)}\"\n",
    "        passage_table.append({\"passage_id\": pid, \"article_id\": art_id, \"text\": \" \".join(current)})\n",
    "\n",
    "print(f\"Built a mini passage pool of size {len(passage_table)}.\")\n",
    "passage_table[1]"
   ]
  },
  {
   "cell_type": "code",
   "execution_count": 5,
   "metadata": {},
   "outputs": [
    {
     "data": {
      "text/plain": [
       "{'passage_id': 'f8097c7d27a8aac6-p1',\n",
       " 'article_id': 'f8097c7d27a8aac6',\n",
       " 'text': \"Although these are simply commercially available trucks retrofitted with its technology, TuSimple has deals in place with two of the world's largest truck manufacturers -- Navistar in the US and Traton, Volkswagen's trucking business, in Europe -- to design and build fully autonomous models, which it hopes to launch by 2024. Photos: The Yara Birkeland is what its builders call the world's first zero-emission, autonomous cargo ship. The ship is scheduled to make its first journey between two Norwegian towns before the end of the year. Click through to see more forms of transport set to transform the future.\"}"
      ]
     },
     "execution_count": 5,
     "metadata": {},
     "output_type": "execute_result"
    }
   ],
   "source": [
    "passage_table[1]"
   ]
  },
  {
   "cell_type": "code",
   "execution_count": 5,
   "metadata": {},
   "outputs": [],
   "source": [
    "# 4) Text‐encode all passages zero‐shot\n",
    "import numpy as np\n",
    "import faiss\n",
    "\n",
    "all_texts = [row[\"text\"] for row in passage_table]\n",
    "batch_size = 4\n",
    "text_embs = []\n",
    "\n",
    "for i in range(0, len(all_texts), batch_size):\n",
    "    batch = all_texts[i : i + batch_size]\n",
    "    inputs = tokenizer(batch, padding=True, truncation=True, max_length=77, return_tensors=\"pt\").to(device)\n",
    "    with torch.no_grad():\n",
    "        emb = clip_model.get_text_features(**inputs)\n",
    "        emb = emb / emb.norm(dim=-1, keepdim=True)\n",
    "    text_embs.append(emb.cpu().numpy())\n",
    "\n",
    "text_embeddings = np.vstack(text_embs)  # shape = (num_passages, D)\n",
    "faiss.normalize_L2(text_embeddings)"
   ]
  },
  {
   "cell_type": "code",
   "execution_count": 6,
   "metadata": {},
   "outputs": [
    {
     "name": "stdout",
     "output_type": "stream",
     "text": [
      "35\n",
      "(35, 512)\n"
     ]
    }
   ],
   "source": [
    "print(len(all_texts))\n",
    "print(text_embeddings.shape)"
   ]
  },
  {
   "cell_type": "code",
   "execution_count": null,
   "metadata": {},
   "outputs": [],
   "source": []
  }
 ],
 "metadata": {
  "kernelspec": {
   "display_name": "eventa",
   "language": "python",
   "name": "python3"
  },
  "language_info": {
   "codemirror_mode": {
    "name": "ipython",
    "version": 3
   },
   "file_extension": ".py",
   "mimetype": "text/x-python",
   "name": "python",
   "nbconvert_exporter": "python",
   "pygments_lexer": "ipython3",
   "version": "3.12.9"
  }
 },
 "nbformat": 4,
 "nbformat_minor": 2
}
